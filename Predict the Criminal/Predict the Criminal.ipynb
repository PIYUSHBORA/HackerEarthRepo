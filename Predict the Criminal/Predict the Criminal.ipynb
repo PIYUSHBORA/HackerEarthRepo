{
 "cells": [
  {
   "cell_type": "markdown",
   "metadata": {},
   "source": [
    "# Predict the Criminal\n",
    "\n",
    "## Import Libraries"
   ]
  },
  {
   "cell_type": "code",
   "execution_count": 26,
   "metadata": {
    "collapsed": true
   },
   "outputs": [],
   "source": [
    "import matplotlib.pyplot as plt\n",
    "import pandas as pd\n",
    "import numpy as np\n",
    "import seaborn as sns\n",
    "%matplotlib inline"
   ]
  },
  {
   "cell_type": "markdown",
   "metadata": {},
   "source": [
    "## Get the Data"
   ]
  },
  {
   "cell_type": "code",
   "execution_count": 27,
   "metadata": {
    "collapsed": true
   },
   "outputs": [],
   "source": [
    "train = pd.read_csv('./data/criminal_train.csv')\n",
    "test = pd.read_csv('./data/criminal_test.csv')"
   ]
  },
  {
   "cell_type": "code",
   "execution_count": 28,
   "metadata": {},
   "outputs": [
    {
     "data": {
      "text/html": [
       "<div>\n",
       "<style>\n",
       "    .dataframe thead tr:only-child th {\n",
       "        text-align: right;\n",
       "    }\n",
       "\n",
       "    .dataframe thead th {\n",
       "        text-align: left;\n",
       "    }\n",
       "\n",
       "    .dataframe tbody tr th {\n",
       "        vertical-align: top;\n",
       "    }\n",
       "</style>\n",
       "<table border=\"1\" class=\"dataframe\">\n",
       "  <thead>\n",
       "    <tr style=\"text-align: right;\">\n",
       "      <th></th>\n",
       "      <th>PERID</th>\n",
       "      <th>IFATHER</th>\n",
       "      <th>NRCH17_2</th>\n",
       "      <th>IRHHSIZ2</th>\n",
       "      <th>IIHHSIZ2</th>\n",
       "      <th>IRKI17_2</th>\n",
       "      <th>IIKI17_2</th>\n",
       "      <th>IRHH65_2</th>\n",
       "      <th>IIHH65_2</th>\n",
       "      <th>PRXRETRY</th>\n",
       "      <th>...</th>\n",
       "      <th>TOOLONG</th>\n",
       "      <th>TROUBUND</th>\n",
       "      <th>PDEN10</th>\n",
       "      <th>COUTYP2</th>\n",
       "      <th>MAIIN102</th>\n",
       "      <th>AIIND102</th>\n",
       "      <th>ANALWT_C</th>\n",
       "      <th>VESTR</th>\n",
       "      <th>VEREP</th>\n",
       "      <th>Criminal</th>\n",
       "    </tr>\n",
       "  </thead>\n",
       "  <tbody>\n",
       "    <tr>\n",
       "      <th>0</th>\n",
       "      <td>25095143</td>\n",
       "      <td>4</td>\n",
       "      <td>2</td>\n",
       "      <td>4</td>\n",
       "      <td>1</td>\n",
       "      <td>3</td>\n",
       "      <td>1</td>\n",
       "      <td>1</td>\n",
       "      <td>1</td>\n",
       "      <td>99</td>\n",
       "      <td>...</td>\n",
       "      <td>1</td>\n",
       "      <td>2</td>\n",
       "      <td>1</td>\n",
       "      <td>1</td>\n",
       "      <td>2</td>\n",
       "      <td>2</td>\n",
       "      <td>3884.805998</td>\n",
       "      <td>40026</td>\n",
       "      <td>1</td>\n",
       "      <td>0</td>\n",
       "    </tr>\n",
       "    <tr>\n",
       "      <th>1</th>\n",
       "      <td>13005143</td>\n",
       "      <td>4</td>\n",
       "      <td>1</td>\n",
       "      <td>3</td>\n",
       "      <td>1</td>\n",
       "      <td>2</td>\n",
       "      <td>1</td>\n",
       "      <td>1</td>\n",
       "      <td>1</td>\n",
       "      <td>99</td>\n",
       "      <td>...</td>\n",
       "      <td>2</td>\n",
       "      <td>2</td>\n",
       "      <td>2</td>\n",
       "      <td>3</td>\n",
       "      <td>2</td>\n",
       "      <td>2</td>\n",
       "      <td>1627.108106</td>\n",
       "      <td>40015</td>\n",
       "      <td>2</td>\n",
       "      <td>1</td>\n",
       "    </tr>\n",
       "    <tr>\n",
       "      <th>2</th>\n",
       "      <td>67415143</td>\n",
       "      <td>4</td>\n",
       "      <td>1</td>\n",
       "      <td>2</td>\n",
       "      <td>1</td>\n",
       "      <td>2</td>\n",
       "      <td>1</td>\n",
       "      <td>1</td>\n",
       "      <td>1</td>\n",
       "      <td>99</td>\n",
       "      <td>...</td>\n",
       "      <td>2</td>\n",
       "      <td>2</td>\n",
       "      <td>2</td>\n",
       "      <td>3</td>\n",
       "      <td>2</td>\n",
       "      <td>2</td>\n",
       "      <td>4344.957980</td>\n",
       "      <td>40024</td>\n",
       "      <td>1</td>\n",
       "      <td>0</td>\n",
       "    </tr>\n",
       "    <tr>\n",
       "      <th>3</th>\n",
       "      <td>70925143</td>\n",
       "      <td>4</td>\n",
       "      <td>0</td>\n",
       "      <td>2</td>\n",
       "      <td>1</td>\n",
       "      <td>1</td>\n",
       "      <td>1</td>\n",
       "      <td>1</td>\n",
       "      <td>1</td>\n",
       "      <td>99</td>\n",
       "      <td>...</td>\n",
       "      <td>2</td>\n",
       "      <td>2</td>\n",
       "      <td>1</td>\n",
       "      <td>1</td>\n",
       "      <td>2</td>\n",
       "      <td>2</td>\n",
       "      <td>792.521931</td>\n",
       "      <td>40027</td>\n",
       "      <td>1</td>\n",
       "      <td>0</td>\n",
       "    </tr>\n",
       "    <tr>\n",
       "      <th>4</th>\n",
       "      <td>75235143</td>\n",
       "      <td>1</td>\n",
       "      <td>0</td>\n",
       "      <td>6</td>\n",
       "      <td>1</td>\n",
       "      <td>4</td>\n",
       "      <td>1</td>\n",
       "      <td>1</td>\n",
       "      <td>1</td>\n",
       "      <td>99</td>\n",
       "      <td>...</td>\n",
       "      <td>2</td>\n",
       "      <td>2</td>\n",
       "      <td>2</td>\n",
       "      <td>2</td>\n",
       "      <td>2</td>\n",
       "      <td>2</td>\n",
       "      <td>1518.118526</td>\n",
       "      <td>40001</td>\n",
       "      <td>2</td>\n",
       "      <td>0</td>\n",
       "    </tr>\n",
       "  </tbody>\n",
       "</table>\n",
       "<p>5 rows × 72 columns</p>\n",
       "</div>"
      ],
      "text/plain": [
       "      PERID  IFATHER  NRCH17_2  IRHHSIZ2  IIHHSIZ2  IRKI17_2  IIKI17_2  \\\n",
       "0  25095143        4         2         4         1         3         1   \n",
       "1  13005143        4         1         3         1         2         1   \n",
       "2  67415143        4         1         2         1         2         1   \n",
       "3  70925143        4         0         2         1         1         1   \n",
       "4  75235143        1         0         6         1         4         1   \n",
       "\n",
       "   IRHH65_2  IIHH65_2  PRXRETRY    ...     TOOLONG  TROUBUND  PDEN10  COUTYP2  \\\n",
       "0         1         1        99    ...           1         2       1        1   \n",
       "1         1         1        99    ...           2         2       2        3   \n",
       "2         1         1        99    ...           2         2       2        3   \n",
       "3         1         1        99    ...           2         2       1        1   \n",
       "4         1         1        99    ...           2         2       2        2   \n",
       "\n",
       "   MAIIN102  AIIND102     ANALWT_C  VESTR  VEREP  Criminal  \n",
       "0         2         2  3884.805998  40026      1         0  \n",
       "1         2         2  1627.108106  40015      2         1  \n",
       "2         2         2  4344.957980  40024      1         0  \n",
       "3         2         2   792.521931  40027      1         0  \n",
       "4         2         2  1518.118526  40001      2         0  \n",
       "\n",
       "[5 rows x 72 columns]"
      ]
     },
     "execution_count": 28,
     "metadata": {},
     "output_type": "execute_result"
    }
   ],
   "source": [
    "train.head()"
   ]
  },
  {
   "cell_type": "code",
   "execution_count": 29,
   "metadata": {},
   "outputs": [
    {
     "data": {
      "text/html": [
       "<div>\n",
       "<style>\n",
       "    .dataframe thead tr:only-child th {\n",
       "        text-align: right;\n",
       "    }\n",
       "\n",
       "    .dataframe thead th {\n",
       "        text-align: left;\n",
       "    }\n",
       "\n",
       "    .dataframe tbody tr th {\n",
       "        vertical-align: top;\n",
       "    }\n",
       "</style>\n",
       "<table border=\"1\" class=\"dataframe\">\n",
       "  <thead>\n",
       "    <tr style=\"text-align: right;\">\n",
       "      <th></th>\n",
       "      <th>PERID</th>\n",
       "      <th>IFATHER</th>\n",
       "      <th>NRCH17_2</th>\n",
       "      <th>IRHHSIZ2</th>\n",
       "      <th>IIHHSIZ2</th>\n",
       "      <th>IRKI17_2</th>\n",
       "      <th>IIKI17_2</th>\n",
       "      <th>IRHH65_2</th>\n",
       "      <th>IIHH65_2</th>\n",
       "      <th>PRXRETRY</th>\n",
       "      <th>...</th>\n",
       "      <th>POVERTY3</th>\n",
       "      <th>TOOLONG</th>\n",
       "      <th>TROUBUND</th>\n",
       "      <th>PDEN10</th>\n",
       "      <th>COUTYP2</th>\n",
       "      <th>MAIIN102</th>\n",
       "      <th>AIIND102</th>\n",
       "      <th>ANALWT_C</th>\n",
       "      <th>VESTR</th>\n",
       "      <th>VEREP</th>\n",
       "    </tr>\n",
       "  </thead>\n",
       "  <tbody>\n",
       "    <tr>\n",
       "      <th>0</th>\n",
       "      <td>66583679</td>\n",
       "      <td>4</td>\n",
       "      <td>0</td>\n",
       "      <td>4</td>\n",
       "      <td>1</td>\n",
       "      <td>2</td>\n",
       "      <td>1</td>\n",
       "      <td>1</td>\n",
       "      <td>1</td>\n",
       "      <td>99</td>\n",
       "      <td>...</td>\n",
       "      <td>2</td>\n",
       "      <td>2</td>\n",
       "      <td>2</td>\n",
       "      <td>1</td>\n",
       "      <td>1</td>\n",
       "      <td>2</td>\n",
       "      <td>2</td>\n",
       "      <td>16346.795400</td>\n",
       "      <td>40020</td>\n",
       "      <td>1</td>\n",
       "    </tr>\n",
       "    <tr>\n",
       "      <th>1</th>\n",
       "      <td>35494679</td>\n",
       "      <td>4</td>\n",
       "      <td>0</td>\n",
       "      <td>4</td>\n",
       "      <td>1</td>\n",
       "      <td>1</td>\n",
       "      <td>1</td>\n",
       "      <td>1</td>\n",
       "      <td>1</td>\n",
       "      <td>99</td>\n",
       "      <td>...</td>\n",
       "      <td>3</td>\n",
       "      <td>2</td>\n",
       "      <td>2</td>\n",
       "      <td>1</td>\n",
       "      <td>1</td>\n",
       "      <td>2</td>\n",
       "      <td>2</td>\n",
       "      <td>3008.863906</td>\n",
       "      <td>40044</td>\n",
       "      <td>2</td>\n",
       "    </tr>\n",
       "    <tr>\n",
       "      <th>2</th>\n",
       "      <td>79424679</td>\n",
       "      <td>2</td>\n",
       "      <td>0</td>\n",
       "      <td>3</td>\n",
       "      <td>1</td>\n",
       "      <td>2</td>\n",
       "      <td>1</td>\n",
       "      <td>1</td>\n",
       "      <td>1</td>\n",
       "      <td>99</td>\n",
       "      <td>...</td>\n",
       "      <td>1</td>\n",
       "      <td>2</td>\n",
       "      <td>2</td>\n",
       "      <td>2</td>\n",
       "      <td>2</td>\n",
       "      <td>2</td>\n",
       "      <td>2</td>\n",
       "      <td>266.952503</td>\n",
       "      <td>40040</td>\n",
       "      <td>2</td>\n",
       "    </tr>\n",
       "    <tr>\n",
       "      <th>3</th>\n",
       "      <td>11744679</td>\n",
       "      <td>4</td>\n",
       "      <td>0</td>\n",
       "      <td>6</td>\n",
       "      <td>1</td>\n",
       "      <td>2</td>\n",
       "      <td>1</td>\n",
       "      <td>1</td>\n",
       "      <td>1</td>\n",
       "      <td>99</td>\n",
       "      <td>...</td>\n",
       "      <td>3</td>\n",
       "      <td>2</td>\n",
       "      <td>2</td>\n",
       "      <td>1</td>\n",
       "      <td>1</td>\n",
       "      <td>2</td>\n",
       "      <td>2</td>\n",
       "      <td>5386.928199</td>\n",
       "      <td>40017</td>\n",
       "      <td>1</td>\n",
       "    </tr>\n",
       "    <tr>\n",
       "      <th>4</th>\n",
       "      <td>31554679</td>\n",
       "      <td>1</td>\n",
       "      <td>0</td>\n",
       "      <td>4</td>\n",
       "      <td>1</td>\n",
       "      <td>3</td>\n",
       "      <td>1</td>\n",
       "      <td>1</td>\n",
       "      <td>1</td>\n",
       "      <td>99</td>\n",
       "      <td>...</td>\n",
       "      <td>3</td>\n",
       "      <td>2</td>\n",
       "      <td>1</td>\n",
       "      <td>1</td>\n",
       "      <td>1</td>\n",
       "      <td>2</td>\n",
       "      <td>2</td>\n",
       "      <td>173.489895</td>\n",
       "      <td>40017</td>\n",
       "      <td>1</td>\n",
       "    </tr>\n",
       "  </tbody>\n",
       "</table>\n",
       "<p>5 rows × 71 columns</p>\n",
       "</div>"
      ],
      "text/plain": [
       "      PERID  IFATHER  NRCH17_2  IRHHSIZ2  IIHHSIZ2  IRKI17_2  IIKI17_2  \\\n",
       "0  66583679        4         0         4         1         2         1   \n",
       "1  35494679        4         0         4         1         1         1   \n",
       "2  79424679        2         0         3         1         2         1   \n",
       "3  11744679        4         0         6         1         2         1   \n",
       "4  31554679        1         0         4         1         3         1   \n",
       "\n",
       "   IRHH65_2  IIHH65_2  PRXRETRY  ...    POVERTY3  TOOLONG  TROUBUND  PDEN10  \\\n",
       "0         1         1        99  ...           2        2         2       1   \n",
       "1         1         1        99  ...           3        2         2       1   \n",
       "2         1         1        99  ...           1        2         2       2   \n",
       "3         1         1        99  ...           3        2         2       1   \n",
       "4         1         1        99  ...           3        2         1       1   \n",
       "\n",
       "   COUTYP2  MAIIN102  AIIND102      ANALWT_C  VESTR  VEREP  \n",
       "0        1         2         2  16346.795400  40020      1  \n",
       "1        1         2         2   3008.863906  40044      2  \n",
       "2        2         2         2    266.952503  40040      2  \n",
       "3        1         2         2   5386.928199  40017      1  \n",
       "4        1         2         2    173.489895  40017      1  \n",
       "\n",
       "[5 rows x 71 columns]"
      ]
     },
     "execution_count": 29,
     "metadata": {},
     "output_type": "execute_result"
    }
   ],
   "source": [
    "test.head()"
   ]
  },
  {
   "cell_type": "markdown",
   "metadata": {},
   "source": [
    "## Exploratory Data Analysis"
   ]
  },
  {
   "cell_type": "code",
   "execution_count": 30,
   "metadata": {},
   "outputs": [
    {
     "data": {
      "text/plain": [
       "<matplotlib.axes._subplots.AxesSubplot at 0x1f0d1f1ba58>"
      ]
     },
     "execution_count": 30,
     "metadata": {},
     "output_type": "execute_result"
    },
    {
     "data": {
      "image/png": "[encoded data removed]",
      "text/plain": [
       "<matplotlib.figure.Figure at 0x1f0d1f1b0f0>"
      ]
     },
     "metadata": {},
     "output_type": "display_data"
    }
   ],
   "source": [
    "sns.heatmap(train.isnull(),yticklabels=False,cbar=False,cmap='viridis')"
   ]
  },
  {
   "cell_type": "raw",
   "metadata": {},
   "source": [
    "#### Train data do not have any Null values"
   ]
  },
  {
   "cell_type": "code",
   "execution_count": 31,
   "metadata": {},
   "outputs": [
    {
     "data": {
      "text/plain": [
       "<matplotlib.axes._subplots.AxesSubplot at 0x1f0d1d1cb70>"
      ]
     },
     "execution_count": 31,
     "metadata": {},
     "output_type": "execute_result"
    },
    {
     "data": {
      "image/png": "[encoded data removed]",
      "text/plain": [
       "<matplotlib.figure.Figure at 0x1f0d1e77240>"
      ]
     },
     "metadata": {},
     "output_type": "display_data"
    }
   ],
   "source": [
    "sns.heatmap(test.isnull(),yticklabels=False,cbar=False,cmap='viridis')"
   ]
  },
  {
   "cell_type": "raw",
   "metadata": {},
   "source": [
    "test data do not have any Null values"
   ]
  },
  {
   "cell_type": "code",
   "execution_count": 32,
   "metadata": {},
   "outputs": [
    {
     "data": {
      "text/plain": [
       "<matplotlib.axes._subplots.AxesSubplot at 0x1f0d45d3b00>"
      ]
     },
     "execution_count": 32,
     "metadata": {},
     "output_type": "execute_result"
    },
    {
     "data": {
      "image/png": "[encoded data removed]",
      "text/plain": [
       "<matplotlib.figure.Figure at 0x1f0d441a898>"
      ]
     },
     "metadata": {},
     "output_type": "display_data"
    }
   ],
   "source": [
    "sns.set_style('whitegrid')\n",
    "sns.countplot(x='Criminal',data=train,palette='RdBu_r')"
   ]
  },
  {
   "cell_type": "code",
   "execution_count": 33,
   "metadata": {},
   "outputs": [
    {
     "data": {
      "image/png": "[encoded data removed]",
      "text/plain": [
       "<matplotlib.figure.Figure at 0x1f0d466cb38>"
      ]
     },
     "metadata": {},
     "output_type": "display_data"
    }
   ],
   "source": [
    "sns.jointplot(x=\"VESTR\", y=\"ANALWT_C\", data=train);\n"
   ]
  },
  {
   "cell_type": "code",
   "execution_count": 34,
   "metadata": {
    "scrolled": true
   },
   "outputs": [
    {
     "data": {
      "text/plain": [
       "<matplotlib.axes._subplots.AxesSubplot at 0x1f0d47fea20>"
      ]
     },
     "execution_count": 34,
     "metadata": {},
     "output_type": "execute_result"
    },
    {
     "data": {
      "image/png": "[encoded data removed]",
      "text/plain": [
       "<matplotlib.figure.Figure at 0x1f0d1cfc438>"
      ]
     },
     "metadata": {},
     "output_type": "display_data"
    }
   ],
   "source": [
    "sns.set_style('whitegrid')\n",
    "sns.countplot(x='Criminal',hue='IFATHER',data=train,palette='RdBu_r')"
   ]
  },
  {
   "cell_type": "code",
   "execution_count": 35,
   "metadata": {},
   "outputs": [
    {
     "data": {
      "text/plain": [
       "<matplotlib.axes._subplots.AxesSubplot at 0x1f0d736ec88>"
      ]
     },
     "execution_count": 35,
     "metadata": {},
     "output_type": "execute_result"
    },
    {
     "data": {
      "image/png": "[encoded data removed]",
      "text/plain": [
       "<matplotlib.figure.Figure at 0x1f0d723c5f8>"
      ]
     },
     "metadata": {},
     "output_type": "display_data"
    }
   ],
   "source": [
    "sns.distplot(train['VESTR'],bins=30,kde=False,color='red')"
   ]
  },
  {
   "cell_type": "code",
   "execution_count": 36,
   "metadata": {
    "scrolled": true
   },
   "outputs": [
    {
     "data": {
      "text/plain": [
       "<matplotlib.text.Text at 0x1f0d74e6358>"
      ]
     },
     "execution_count": 36,
     "metadata": {},
     "output_type": "execute_result"
    },
    {
     "data": {
      "image/png": "[encoded data removed]",
      "text/plain": [
       "<matplotlib.figure.Figure at 0x1f0d749e9b0>"
      ]
     },
     "metadata": {},
     "output_type": "display_data"
    }
   ],
   "source": [
    "sns.heatmap(train.corr(),cmap='coolwarm')\n",
    "plt.title('Train.corr()')"
   ]
  },
  {
   "cell_type": "code",
   "execution_count": 37,
   "metadata": {},
   "outputs": [
    {
     "data": {
      "text/plain": [
       "<matplotlib.axes._subplots.AxesSubplot at 0x1f0d747d898>"
      ]
     },
     "execution_count": 37,
     "metadata": {},
     "output_type": "execute_result"
    },
    {
     "data": {
      "image/png": "[encoded data removed]",
      "text/plain": [
       "<matplotlib.figure.Figure at 0x1f0d4420390>"
      ]
     },
     "metadata": {},
     "output_type": "display_data"
    }
   ],
   "source": [
    "train['ANALWT_C'].plot.kde()"
   ]
  },
  {
   "cell_type": "markdown",
   "metadata": {},
   "source": [
    "## Data Cleaning"
   ]
  },
  {
   "cell_type": "markdown",
   "metadata": {},
   "source": [
    "### Drop unnecessary column PERID"
   ]
  },
  {
   "cell_type": "code",
   "execution_count": 38,
   "metadata": {
    "collapsed": true
   },
   "outputs": [],
   "source": [
    "train.drop(\"PERID\",axis=1,inplace=True)\n",
    "\n",
    "train.drop(\"IIHH65_2\",axis=1,inplace=True)\n",
    "test.drop(\"IIHH65_2\",axis=1, inplace=True)"
   ]
  },
  {
   "cell_type": "code",
   "execution_count": 39,
   "metadata": {
    "collapsed": true
   },
   "outputs": [],
   "source": [
    "train.drop(\"HLCALL99\",axis=1,inplace=True)\n",
    "test.drop(\"HLCALL99\",axis=1, inplace=True)"
   ]
  },
  {
   "cell_type": "code",
   "execution_count": 40,
   "metadata": {
    "collapsed": true
   },
   "outputs": [],
   "source": [
    "#train['ANALWT_C'] = train['ANALWT_C'].astype(int)\n",
    "#test['ANALWT_C']    = test['ANALWT_C'].astype(int)"
   ]
  },
  {
   "cell_type": "code",
   "execution_count": 41,
   "metadata": {
    "collapsed": true
   },
   "outputs": [],
   "source": [
    "train.drop(\"IIFSTAMP\",axis=1,inplace=True)\n",
    "test.drop(\"IIFSTAMP\",axis=1, inplace=True)"
   ]
  },
  {
   "cell_type": "code",
   "execution_count": null,
   "metadata": {
    "collapsed": true
   },
   "outputs": [],
   "source": []
  },
  {
   "cell_type": "code",
   "execution_count": 42,
   "metadata": {
    "collapsed": true
   },
   "outputs": [],
   "source": [
    "train.drop(\"MAIIN102\",axis=1,inplace=True)\n",
    "test.drop(\"MAIIN102\",axis=1, inplace=True)"
   ]
  },
  {
   "cell_type": "code",
   "execution_count": 43,
   "metadata": {
    "collapsed": true
   },
   "outputs": [],
   "source": [
    "train.drop(\"HLNVREF\",axis=1,inplace=True)\n",
    "test.drop(\"HLNVREF\",axis=1, inplace=True)"
   ]
  },
  {
   "cell_type": "code",
   "execution_count": null,
   "metadata": {
    "collapsed": true
   },
   "outputs": [],
   "source": [
    "\n"
   ]
  },
  {
   "cell_type": "code",
   "execution_count": 44,
   "metadata": {
    "collapsed": true
   },
   "outputs": [],
   "source": [
    "train.drop(\"IIHHSIZ2\",axis=1,inplace=True)\n",
    "test.drop(\"IIHHSIZ2\",axis=1, inplace=True)"
   ]
  },
  {
   "cell_type": "code",
   "execution_count": null,
   "metadata": {
    "collapsed": true
   },
   "outputs": [],
   "source": []
  },
  {
   "cell_type": "code",
   "execution_count": 45,
   "metadata": {},
   "outputs": [
    {
     "data": {
      "text/html": [
       "<div>\n",
       "<style>\n",
       "    .dataframe thead tr:only-child th {\n",
       "        text-align: right;\n",
       "    }\n",
       "\n",
       "    .dataframe thead th {\n",
       "        text-align: left;\n",
       "    }\n",
       "\n",
       "    .dataframe tbody tr th {\n",
       "        vertical-align: top;\n",
       "    }\n",
       "</style>\n",
       "<table border=\"1\" class=\"dataframe\">\n",
       "  <thead>\n",
       "    <tr style=\"text-align: right;\">\n",
       "      <th></th>\n",
       "      <th>IFATHER</th>\n",
       "      <th>NRCH17_2</th>\n",
       "      <th>IRHHSIZ2</th>\n",
       "      <th>IRKI17_2</th>\n",
       "      <th>IIKI17_2</th>\n",
       "      <th>IRHH65_2</th>\n",
       "      <th>PRXRETRY</th>\n",
       "      <th>PRXYDATA</th>\n",
       "      <th>MEDICARE</th>\n",
       "      <th>CAIDCHIP</th>\n",
       "      <th>...</th>\n",
       "      <th>POVERTY3</th>\n",
       "      <th>TOOLONG</th>\n",
       "      <th>TROUBUND</th>\n",
       "      <th>PDEN10</th>\n",
       "      <th>COUTYP2</th>\n",
       "      <th>AIIND102</th>\n",
       "      <th>ANALWT_C</th>\n",
       "      <th>VESTR</th>\n",
       "      <th>VEREP</th>\n",
       "      <th>Criminal</th>\n",
       "    </tr>\n",
       "  </thead>\n",
       "  <tbody>\n",
       "    <tr>\n",
       "      <th>0</th>\n",
       "      <td>4</td>\n",
       "      <td>2</td>\n",
       "      <td>4</td>\n",
       "      <td>3</td>\n",
       "      <td>1</td>\n",
       "      <td>1</td>\n",
       "      <td>99</td>\n",
       "      <td>99</td>\n",
       "      <td>2</td>\n",
       "      <td>1</td>\n",
       "      <td>...</td>\n",
       "      <td>2</td>\n",
       "      <td>1</td>\n",
       "      <td>2</td>\n",
       "      <td>1</td>\n",
       "      <td>1</td>\n",
       "      <td>2</td>\n",
       "      <td>3884.805998</td>\n",
       "      <td>40026</td>\n",
       "      <td>1</td>\n",
       "      <td>0</td>\n",
       "    </tr>\n",
       "    <tr>\n",
       "      <th>1</th>\n",
       "      <td>4</td>\n",
       "      <td>1</td>\n",
       "      <td>3</td>\n",
       "      <td>2</td>\n",
       "      <td>1</td>\n",
       "      <td>1</td>\n",
       "      <td>99</td>\n",
       "      <td>99</td>\n",
       "      <td>2</td>\n",
       "      <td>2</td>\n",
       "      <td>...</td>\n",
       "      <td>1</td>\n",
       "      <td>2</td>\n",
       "      <td>2</td>\n",
       "      <td>2</td>\n",
       "      <td>3</td>\n",
       "      <td>2</td>\n",
       "      <td>1627.108106</td>\n",
       "      <td>40015</td>\n",
       "      <td>2</td>\n",
       "      <td>1</td>\n",
       "    </tr>\n",
       "    <tr>\n",
       "      <th>2</th>\n",
       "      <td>4</td>\n",
       "      <td>1</td>\n",
       "      <td>2</td>\n",
       "      <td>2</td>\n",
       "      <td>1</td>\n",
       "      <td>1</td>\n",
       "      <td>99</td>\n",
       "      <td>99</td>\n",
       "      <td>2</td>\n",
       "      <td>1</td>\n",
       "      <td>...</td>\n",
       "      <td>1</td>\n",
       "      <td>2</td>\n",
       "      <td>2</td>\n",
       "      <td>2</td>\n",
       "      <td>3</td>\n",
       "      <td>2</td>\n",
       "      <td>4344.957980</td>\n",
       "      <td>40024</td>\n",
       "      <td>1</td>\n",
       "      <td>0</td>\n",
       "    </tr>\n",
       "    <tr>\n",
       "      <th>3</th>\n",
       "      <td>4</td>\n",
       "      <td>0</td>\n",
       "      <td>2</td>\n",
       "      <td>1</td>\n",
       "      <td>1</td>\n",
       "      <td>1</td>\n",
       "      <td>99</td>\n",
       "      <td>99</td>\n",
       "      <td>2</td>\n",
       "      <td>2</td>\n",
       "      <td>...</td>\n",
       "      <td>3</td>\n",
       "      <td>2</td>\n",
       "      <td>2</td>\n",
       "      <td>1</td>\n",
       "      <td>1</td>\n",
       "      <td>2</td>\n",
       "      <td>792.521931</td>\n",
       "      <td>40027</td>\n",
       "      <td>1</td>\n",
       "      <td>0</td>\n",
       "    </tr>\n",
       "    <tr>\n",
       "      <th>4</th>\n",
       "      <td>1</td>\n",
       "      <td>0</td>\n",
       "      <td>6</td>\n",
       "      <td>4</td>\n",
       "      <td>1</td>\n",
       "      <td>1</td>\n",
       "      <td>99</td>\n",
       "      <td>1</td>\n",
       "      <td>2</td>\n",
       "      <td>1</td>\n",
       "      <td>...</td>\n",
       "      <td>1</td>\n",
       "      <td>2</td>\n",
       "      <td>2</td>\n",
       "      <td>2</td>\n",
       "      <td>2</td>\n",
       "      <td>2</td>\n",
       "      <td>1518.118526</td>\n",
       "      <td>40001</td>\n",
       "      <td>2</td>\n",
       "      <td>0</td>\n",
       "    </tr>\n",
       "  </tbody>\n",
       "</table>\n",
       "<p>5 rows × 65 columns</p>\n",
       "</div>"
      ],
      "text/plain": [
       "   IFATHER  NRCH17_2  IRHHSIZ2  IRKI17_2  IIKI17_2  IRHH65_2  PRXRETRY  \\\n",
       "0        4         2         4         3         1         1        99   \n",
       "1        4         1         3         2         1         1        99   \n",
       "2        4         1         2         2         1         1        99   \n",
       "3        4         0         2         1         1         1        99   \n",
       "4        1         0         6         4         1         1        99   \n",
       "\n",
       "   PRXYDATA  MEDICARE  CAIDCHIP    ...     POVERTY3  TOOLONG  TROUBUND  \\\n",
       "0        99         2         1    ...            2        1         2   \n",
       "1        99         2         2    ...            1        2         2   \n",
       "2        99         2         1    ...            1        2         2   \n",
       "3        99         2         2    ...            3        2         2   \n",
       "4         1         2         1    ...            1        2         2   \n",
       "\n",
       "   PDEN10  COUTYP2  AIIND102     ANALWT_C  VESTR  VEREP  Criminal  \n",
       "0       1        1         2  3884.805998  40026      1         0  \n",
       "1       2        3         2  1627.108106  40015      2         1  \n",
       "2       2        3         2  4344.957980  40024      1         0  \n",
       "3       1        1         2   792.521931  40027      1         0  \n",
       "4       2        2         2  1518.118526  40001      2         0  \n",
       "\n",
       "[5 rows x 65 columns]"
      ]
     },
     "execution_count": 45,
     "metadata": {},
     "output_type": "execute_result"
    }
   ],
   "source": [
    "train.head()"
   ]
  },
  {
   "cell_type": "code",
   "execution_count": 46,
   "metadata": {
    "collapsed": true
   },
   "outputs": [],
   "source": [
    "## Encoding variables\n",
    "\n",
    "train.loc[ train['VESTR'] <= 40010, 'VESTR'] = 0\n",
    "train.loc[(train['VESTR'] > 40010) & (train['VESTR'] <= 40025), 'VESTR'] = 1\n",
    "train.loc[(train['VESTR'] > 40025) & (train['VESTR'] <= 40040), 'VESTR'] = 2\n",
    "train.loc[ train['VESTR'] > 40040, 'VESTR'] = 3\n",
    "test.loc[ test['VESTR'] <= 40010, 'VESTR'] = 0\n",
    "test.loc[(test['VESTR'] > 40010) & (test['VESTR'] <= 40025), 'VESTR'] = 1\n",
    "test.loc[(test['VESTR'] > 40025) & (test['VESTR'] <= 40040), 'VESTR'] = 2\n",
    "test.loc[test['VESTR'] > 40040, 'VESTR'] = 3\n"
   ]
  },
  {
   "cell_type": "code",
   "execution_count": 47,
   "metadata": {},
   "outputs": [
    {
     "data": {
      "text/html": [
       "<div>\n",
       "<style>\n",
       "    .dataframe thead tr:only-child th {\n",
       "        text-align: right;\n",
       "    }\n",
       "\n",
       "    .dataframe thead th {\n",
       "        text-align: left;\n",
       "    }\n",
       "\n",
       "    .dataframe tbody tr th {\n",
       "        vertical-align: top;\n",
       "    }\n",
       "</style>\n",
       "<table border=\"1\" class=\"dataframe\">\n",
       "  <thead>\n",
       "    <tr style=\"text-align: right;\">\n",
       "      <th></th>\n",
       "      <th>IFATHER</th>\n",
       "      <th>NRCH17_2</th>\n",
       "      <th>IRHHSIZ2</th>\n",
       "      <th>IRKI17_2</th>\n",
       "      <th>IIKI17_2</th>\n",
       "      <th>IRHH65_2</th>\n",
       "      <th>PRXRETRY</th>\n",
       "      <th>PRXYDATA</th>\n",
       "      <th>MEDICARE</th>\n",
       "      <th>CAIDCHIP</th>\n",
       "      <th>...</th>\n",
       "      <th>POVERTY3</th>\n",
       "      <th>TOOLONG</th>\n",
       "      <th>TROUBUND</th>\n",
       "      <th>PDEN10</th>\n",
       "      <th>COUTYP2</th>\n",
       "      <th>AIIND102</th>\n",
       "      <th>ANALWT_C</th>\n",
       "      <th>VESTR</th>\n",
       "      <th>VEREP</th>\n",
       "      <th>Criminal</th>\n",
       "    </tr>\n",
       "  </thead>\n",
       "  <tbody>\n",
       "    <tr>\n",
       "      <th>0</th>\n",
       "      <td>4</td>\n",
       "      <td>2</td>\n",
       "      <td>4</td>\n",
       "      <td>3</td>\n",
       "      <td>1</td>\n",
       "      <td>1</td>\n",
       "      <td>99</td>\n",
       "      <td>99</td>\n",
       "      <td>2</td>\n",
       "      <td>1</td>\n",
       "      <td>...</td>\n",
       "      <td>2</td>\n",
       "      <td>1</td>\n",
       "      <td>2</td>\n",
       "      <td>1</td>\n",
       "      <td>1</td>\n",
       "      <td>2</td>\n",
       "      <td>3884.805998</td>\n",
       "      <td>2</td>\n",
       "      <td>1</td>\n",
       "      <td>0</td>\n",
       "    </tr>\n",
       "    <tr>\n",
       "      <th>1</th>\n",
       "      <td>4</td>\n",
       "      <td>1</td>\n",
       "      <td>3</td>\n",
       "      <td>2</td>\n",
       "      <td>1</td>\n",
       "      <td>1</td>\n",
       "      <td>99</td>\n",
       "      <td>99</td>\n",
       "      <td>2</td>\n",
       "      <td>2</td>\n",
       "      <td>...</td>\n",
       "      <td>1</td>\n",
       "      <td>2</td>\n",
       "      <td>2</td>\n",
       "      <td>2</td>\n",
       "      <td>3</td>\n",
       "      <td>2</td>\n",
       "      <td>1627.108106</td>\n",
       "      <td>1</td>\n",
       "      <td>2</td>\n",
       "      <td>1</td>\n",
       "    </tr>\n",
       "    <tr>\n",
       "      <th>2</th>\n",
       "      <td>4</td>\n",
       "      <td>1</td>\n",
       "      <td>2</td>\n",
       "      <td>2</td>\n",
       "      <td>1</td>\n",
       "      <td>1</td>\n",
       "      <td>99</td>\n",
       "      <td>99</td>\n",
       "      <td>2</td>\n",
       "      <td>1</td>\n",
       "      <td>...</td>\n",
       "      <td>1</td>\n",
       "      <td>2</td>\n",
       "      <td>2</td>\n",
       "      <td>2</td>\n",
       "      <td>3</td>\n",
       "      <td>2</td>\n",
       "      <td>4344.957980</td>\n",
       "      <td>1</td>\n",
       "      <td>1</td>\n",
       "      <td>0</td>\n",
       "    </tr>\n",
       "    <tr>\n",
       "      <th>3</th>\n",
       "      <td>4</td>\n",
       "      <td>0</td>\n",
       "      <td>2</td>\n",
       "      <td>1</td>\n",
       "      <td>1</td>\n",
       "      <td>1</td>\n",
       "      <td>99</td>\n",
       "      <td>99</td>\n",
       "      <td>2</td>\n",
       "      <td>2</td>\n",
       "      <td>...</td>\n",
       "      <td>3</td>\n",
       "      <td>2</td>\n",
       "      <td>2</td>\n",
       "      <td>1</td>\n",
       "      <td>1</td>\n",
       "      <td>2</td>\n",
       "      <td>792.521931</td>\n",
       "      <td>2</td>\n",
       "      <td>1</td>\n",
       "      <td>0</td>\n",
       "    </tr>\n",
       "    <tr>\n",
       "      <th>4</th>\n",
       "      <td>1</td>\n",
       "      <td>0</td>\n",
       "      <td>6</td>\n",
       "      <td>4</td>\n",
       "      <td>1</td>\n",
       "      <td>1</td>\n",
       "      <td>99</td>\n",
       "      <td>1</td>\n",
       "      <td>2</td>\n",
       "      <td>1</td>\n",
       "      <td>...</td>\n",
       "      <td>1</td>\n",
       "      <td>2</td>\n",
       "      <td>2</td>\n",
       "      <td>2</td>\n",
       "      <td>2</td>\n",
       "      <td>2</td>\n",
       "      <td>1518.118526</td>\n",
       "      <td>0</td>\n",
       "      <td>2</td>\n",
       "      <td>0</td>\n",
       "    </tr>\n",
       "  </tbody>\n",
       "</table>\n",
       "<p>5 rows × 65 columns</p>\n",
       "</div>"
      ],
      "text/plain": [
       "   IFATHER  NRCH17_2  IRHHSIZ2  IRKI17_2  IIKI17_2  IRHH65_2  PRXRETRY  \\\n",
       "0        4         2         4         3         1         1        99   \n",
       "1        4         1         3         2         1         1        99   \n",
       "2        4         1         2         2         1         1        99   \n",
       "3        4         0         2         1         1         1        99   \n",
       "4        1         0         6         4         1         1        99   \n",
       "\n",
       "   PRXYDATA  MEDICARE  CAIDCHIP    ...     POVERTY3  TOOLONG  TROUBUND  \\\n",
       "0        99         2         1    ...            2        1         2   \n",
       "1        99         2         2    ...            1        2         2   \n",
       "2        99         2         1    ...            1        2         2   \n",
       "3        99         2         2    ...            3        2         2   \n",
       "4         1         2         1    ...            1        2         2   \n",
       "\n",
       "   PDEN10  COUTYP2  AIIND102     ANALWT_C  VESTR  VEREP  Criminal  \n",
       "0       1        1         2  3884.805998      2      1         0  \n",
       "1       2        3         2  1627.108106      1      2         1  \n",
       "2       2        3         2  4344.957980      1      1         0  \n",
       "3       1        1         2   792.521931      2      1         0  \n",
       "4       2        2         2  1518.118526      0      2         0  \n",
       "\n",
       "[5 rows x 65 columns]"
      ]
     },
     "execution_count": 47,
     "metadata": {},
     "output_type": "execute_result"
    }
   ],
   "source": [
    "train.head()"
   ]
  },
  {
   "cell_type": "code",
   "execution_count": null,
   "metadata": {
    "collapsed": true
   },
   "outputs": [],
   "source": []
  },
  {
   "cell_type": "code",
   "execution_count": 64,
   "metadata": {},
   "outputs": [
    {
     "data": {
      "text/plain": [
       "True"
      ]
     },
     "execution_count": 64,
     "metadata": {},
     "output_type": "execute_result"
    }
   ],
   "source": [
    "#'PRXRETRY','PRXYDATA','GRPHLTIN','HLTINNOS','HLCNOTMO','HLCLAST','HLLOSRSN','HLLOSRSN','HLNVCOST','HLNVCOST','HLNVREF','HLNVNEED','HLNVSOR','IROTHHLT','HLCALLFG','HLCALL99','IRWELMOS'\n",
    "'HLCNOTMO' in list(train)"
   ]
  },
  {
   "cell_type": "code",
   "execution_count": 66,
   "metadata": {},
   "outputs": [],
   "source": [
    "# train.loc[ train['HLCALL99'] <= 1, 'HLCALL99'] = 0\n",
    "# train.loc[(train['HLCALL99'] > 1) & (train['HLCALL99'] <= 10), 'HLCALL99'] = 1\n",
    "# train.loc[ train['HLCALL99'] > 10, 'HLCALL99'] = 2\n",
    "# test.loc[ test['HLCALL99'] <= 1, 'HLCALL99'] = 0\n",
    "# test.loc[(test['HLCALL99'] > 1) & (test['HLCALL99'] <= 10), 'HLCALL99'] = 1\n",
    "# test.loc[test['HLCALL99'] > 10, 'HLCALL99'] = 2\n",
    "\n",
    "train.loc[ train['HLCALLFG'] <= 1, 'HLCALLFG'] = 0\n",
    "train.loc[(train['HLCALLFG'] > 1) & (train['HLCALLFG'] <= 10), 'HLCALLFG'] = 1\n",
    "train.loc[ train['HLCALLFG'] > 10, 'HLCALLFG'] = 2\n",
    "test.loc[ test['HLCALLFG'] <= 1, 'HLCALLFG'] = 0\n",
    "test.loc[(test['HLCALLFG'] > 1) & (test['HLCALLFG'] <= 10), 'HLCALLFG'] = 1\n",
    "test.loc[test['HLCALLFG'] > 10, 'HLCALLFG'] = 2\n",
    "\n",
    "\n",
    "train.loc[ train['IROTHHLT'] <= 1, 'IROTHHLT'] = 0\n",
    "train.loc[(train['IROTHHLT'] > 1) & (train['IROTHHLT'] <= 10), 'IROTHHLT'] = 1\n",
    "train.loc[ train['IROTHHLT'] > 10, 'IROTHHLT'] = 2\n",
    "test.loc[ test['IROTHHLT'] <= 1, 'IROTHHLT'] = 0\n",
    "test.loc[(test['IROTHHLT'] > 1) & (test['IROTHHLT'] <= 10), 'IROTHHLT'] = 1\n",
    "test.loc[test['IROTHHLT'] > 10, 'IROTHHLT'] = 2\n",
    "\n",
    "\n",
    "train.loc[ train['HLNVSOR'] <= 1, 'HLNVSOR'] = 0\n",
    "train.loc[(train['HLNVSOR'] > 1) & (train['HLNVSOR'] <= 10), 'HLNVSOR'] = 1\n",
    "train.loc[ train['HLNVSOR'] > 10, 'HLNVSOR'] = 2\n",
    "test.loc[ test['HLNVSOR'] <= 1, 'HLNVSOR'] = 0\n",
    "test.loc[(test['HLNVSOR'] > 1) & (test['HLNVSOR'] <= 10), 'HLNVSOR'] = 1\n",
    "test.loc[test['HLNVSOR'] > 10, 'HLNVSOR'] = 2\n",
    "\n",
    "train.loc[ train['HLNVNEED'] <= 1, 'HLNVNEED'] = 0\n",
    "train.loc[(train['HLNVNEED'] > 1) & (train['HLNVNEED'] <= 10), 'HLNVNEED'] = 1\n",
    "train.loc[ train['HLNVNEED'] > 10, 'HLNVNEED'] = 2\n",
    "test.loc[ test['HLNVNEED'] <= 1, 'HLNVNEED'] = 0\n",
    "test.loc[(test['HLNVNEED'] > 1) & (test['HLNVNEED'] <= 10), 'HLNVNEED'] = 1\n",
    "test.loc[test['HLNVNEED'] > 10, 'HLNVNEED'] = 2\n",
    "\n",
    "# train.loc[ train['HLNVREF'] <= 1, 'HLNVREF'] = 0\n",
    "# train.loc[(train['HLNVREF'] > 1) & (train['HLNVREF'] <= 10), 'HLNVREF'] = 1\n",
    "# train.loc[ train['HLNVREF'] > 10, 'HLNVREF'] = 2\n",
    "# test.loc[ test['HLNVREF'] <= 1, 'HLNVREF'] = 0\n",
    "# test.loc[(test['HLNVREF'] > 1) & (test['HLNVREF'] <= 10), 'HLNVREF'] = 1\n",
    "# test.loc[test['HLNVREF'] > 10, 'HLNVREF'] = 2\n",
    "\n",
    "train.loc[ train['HLNVCOST'] <= 1, 'HLNVCOST'] = 0\n",
    "train.loc[(train['HLNVCOST'] > 1) & (train['HLNVCOST'] <= 10), 'HLNVCOST'] = 1\n",
    "train.loc[ train['HLNVCOST'] > 10, 'HLNVCOST'] = 2\n",
    "test.loc[ test['HLNVCOST'] <= 1, 'HLNVCOST'] = 0\n",
    "test.loc[(test['HLNVCOST'] > 1) & (test['HLNVCOST'] <= 10), 'HLNVCOST'] = 1\n",
    "test.loc[test['HLNVCOST'] > 10, 'HLNVCOST'] = 2\n",
    "\n",
    "train.loc[ train['HLLOSRSN'] <= 1, 'HLLOSRSN'] = 0\n",
    "train.loc[(train['HLLOSRSN'] > 1) & (train['HLLOSRSN'] <= 10), 'HLLOSRSN'] = 1\n",
    "train.loc[ train['HLLOSRSN'] > 10, 'HLLOSRSN'] = 2\n",
    "test.loc[ test['HLLOSRSN'] <= 1, 'HLLOSRSN'] = 0\n",
    "test.loc[(test['HLLOSRSN'] > 1) & (test['HLLOSRSN'] <= 10), 'HLLOSRSN'] = 1\n",
    "test.loc[test['HLLOSRSN'] > 10, 'HLLOSRSN'] = 2\n",
    "\n",
    "train.loc[ train['HLCLAST'] <= 1, 'HLCLAST'] = 0\n",
    "train.loc[(train['HLCLAST'] > 1) & (train['HLCLAST'] <= 10), 'HLCLAST'] = 1\n",
    "train.loc[ train['HLCLAST'] > 10, 'HLCLAST'] = 2\n",
    "test.loc[ test['HLCLAST'] <= 1, 'HLCLAST'] = 0\n",
    "test.loc[(test['HLCLAST'] > 1) & (test['HLCLAST'] <= 10), 'HLCLAST'] = 1\n",
    "test.loc[test['HLCLAST'] > 10, 'HLCLAST'] = 2\n",
    "\n",
    "train.loc[ train['HLCNOTMO'] <= 1, 'HLCNOTMO'] = 0\n",
    "train.loc[(train['HLCNOTMO'] > 1) & (train['HLCNOTMO'] <= 10), 'HLCNOTMO'] = 1\n",
    "train.loc[ train['HLCNOTMO'] > 10, 'HLCNOTMO'] = 2\n",
    "test.loc[ test['HLCNOTMO'] <= 1, 'HLCNOTMO'] = 0\n",
    "test.loc[(test['HLCNOTMO'] > 1) & (test['HLCNOTMO'] <= 10), 'HLCNOTMO'] = 1\n",
    "test.loc[test['HLCNOTMO'] > 10, 'HLCNOTMO'] = 2\n",
    "\n",
    "train.loc[ train['PRXRETRY'] <= 1, 'PRXRETRY'] = 0\n",
    "train.loc[(train['PRXRETRY'] > 1) & (train['PRXRETRY'] <= 10), 'PRXRETRY'] = 1\n",
    "train.loc[ train['PRXRETRY'] > 10, 'PRXRETRY'] = 2\n",
    "test.loc[ test['PRXRETRY'] <= 1, 'PRXRETRY'] = 0\n",
    "test.loc[(test['PRXRETRY'] > 1) & (test['PRXRETRY'] <= 10), 'PRXRETRY'] = 1\n",
    "test.loc[test['PRXRETRY'] > 10, 'PRXRETRY'] = 2\n",
    "\n",
    "train.loc[ train['PRXYDATA'] <= 1, 'PRXYDATA'] = 0\n",
    "train.loc[(train['PRXYDATA'] > 1) & (train['PRXYDATA'] <= 10), 'PRXYDATA'] = 1\n",
    "train.loc[ train['PRXYDATA'] > 10, 'PRXYDATA'] = 2\n",
    "test.loc[ test['PRXYDATA'] <= 1, 'PRXYDATA'] = 0\n",
    "test.loc[(test['PRXYDATA'] > 1) & (test['PRXYDATA'] <= 10), 'PRXYDATA'] = 1\n",
    "test.loc[test['PRXYDATA'] > 10, 'PRXYDATA'] = 2\n",
    "\n",
    "train.loc[ train['GRPHLTIN'] <= 1, 'GRPHLTIN'] = 0\n",
    "train.loc[(train['GRPHLTIN'] > 1) & (train['GRPHLTIN'] <= 10), 'GRPHLTIN'] = 1\n",
    "train.loc[ train['GRPHLTIN'] > 10, 'GRPHLTIN'] = 2\n",
    "test.loc[ test['GRPHLTIN'] <= 1, 'GRPHLTIN'] = 0\n",
    "test.loc[(test['GRPHLTIN'] > 1) & (test['GRPHLTIN'] <= 10), 'GRPHLTIN'] = 1\n",
    "test.loc[test['GRPHLTIN'] > 10, 'GRPHLTIN'] = 2\n",
    "\n",
    "train.loc[ train['HLTINNOS'] <= 1, 'HLTINNOS'] = 0\n",
    "train.loc[(train['HLTINNOS'] > 1) & (train['HLTINNOS'] <= 10), 'HLTINNOS'] = 1\n",
    "train.loc[ train['HLTINNOS'] > 10, 'HLTINNOS'] = 2\n",
    "test.loc[ test['HLTINNOS'] <= 1, 'HLTINNOS'] = 0\n",
    "test.loc[(test['HLTINNOS'] > 1) & (test['HLTINNOS'] <= 10), 'HLTINNOS'] = 1\n",
    "test.loc[test['HLTINNOS'] > 10, 'HLTINNOS'] = 2\n",
    "\n",
    "train.loc[ train['IRWELMOS'] <= 1, 'IRWELMOS'] = 0\n",
    "train.loc[(train['IRWELMOS'] > 1) & (train['IRWELMOS'] <= 10), 'IRWELMOS'] = 1\n",
    "train.loc[ train['IRWELMOS'] > 10, 'IRWELMOS'] = 2\n",
    "test.loc[ test['IRWELMOS'] <= 1, 'IRWELMOS'] = 0\n",
    "test.loc[(test['IRWELMOS'] > 1) & (test['IRWELMOS'] <= 10), 'IRWELMOS'] = 1\n",
    "test.loc[test['IRWELMOS'] > 10, 'IRWELMOS'] = 2\n",
    "\n"
   ]
  },
  {
   "cell_type": "code",
   "execution_count": 67,
   "metadata": {
    "collapsed": true
   },
   "outputs": [],
   "source": [
    "\n",
    "train.loc[ train['ANALWT_C'] <= 10000, 'ANALWT_C'] = 0\n",
    "train.loc[(train['ANALWT_C'] > 10000) & (train['ANALWT_C'] <= 20000), 'ANALWT_C'] = 1\n",
    "train.loc[(train['ANALWT_C'] > 20000) & (train['ANALWT_C'] <= 30000), 'ANALWT_C'] = 2\n",
    "train.loc[(train['ANALWT_C'] > 30000) & (train['ANALWT_C'] <= 40000), 'ANALWT_C'] = 3\n",
    "train.loc[(train['ANALWT_C'] > 40000) & (train['ANALWT_C'] <= 50000), 'ANALWT_C'] = 4\n",
    "train.loc[(train['ANALWT_C'] > 50000) & (train['ANALWT_C'] <= 60000), 'ANALWT_C'] = 5\n",
    "train.loc[(train['ANALWT_C'] > 60000) & (train['ANALWT_C'] <= 70000), 'ANALWT_C'] = 6\n",
    "train.loc[(train['ANALWT_C'] > 70000) & (train['ANALWT_C'] <= 80000), 'ANALWT_C'] = 7\n",
    "train.loc[(train['ANALWT_C'] > 80000) & (train['ANALWT_C'] <= 90000), 'ANALWT_C'] = 8\n",
    "train.loc[ train['ANALWT_C'] > 90000, 'ANALWT_C'] = 9\n",
    "\n",
    "\n",
    "test.loc[ test['ANALWT_C'] <= 10000, 'ANALWT_C'] = 0\n",
    "test.loc[(test['ANALWT_C'] > 10000) & (test['ANALWT_C'] <= 20000), 'ANALWT_C'] = 1\n",
    "test.loc[(test['ANALWT_C'] > 20000) & (test['ANALWT_C'] <= 30000), 'ANALWT_C'] = 2\n",
    "test.loc[(test['ANALWT_C'] > 30000) & (test['ANALWT_C'] <= 40000), 'ANALWT_C'] = 3\n",
    "test.loc[(test['ANALWT_C'] > 40000) & (test['ANALWT_C'] <= 50000), 'ANALWT_C'] = 4\n",
    "test.loc[(test['ANALWT_C'] > 50000) & (test['ANALWT_C'] <= 60000), 'ANALWT_C'] = 5\n",
    "test.loc[(test['ANALWT_C'] > 60000) & (test['ANALWT_C'] <= 70000), 'ANALWT_C'] = 6\n",
    "test.loc[(test['ANALWT_C'] > 70000) & (test['ANALWT_C'] <= 80000), 'ANALWT_C'] = 7\n",
    "test.loc[(test['ANALWT_C'] > 80000) & (test['ANALWT_C'] <= 90000), 'ANALWT_C'] = 8\n",
    "test.loc[test['ANALWT_C'] > 90000, 'ANALWT_C'] = 9"
   ]
  },
  {
   "cell_type": "code",
   "execution_count": 68,
   "metadata": {},
   "outputs": [
    {
     "data": {
      "text/html": [
       "<div>\n",
       "<style>\n",
       "    .dataframe thead tr:only-child th {\n",
       "        text-align: right;\n",
       "    }\n",
       "\n",
       "    .dataframe thead th {\n",
       "        text-align: left;\n",
       "    }\n",
       "\n",
       "    .dataframe tbody tr th {\n",
       "        vertical-align: top;\n",
       "    }\n",
       "</style>\n",
       "<table border=\"1\" class=\"dataframe\">\n",
       "  <thead>\n",
       "    <tr style=\"text-align: right;\">\n",
       "      <th></th>\n",
       "      <th>IFATHER</th>\n",
       "      <th>NRCH17_2</th>\n",
       "      <th>IRHHSIZ2</th>\n",
       "      <th>IRKI17_2</th>\n",
       "      <th>IIKI17_2</th>\n",
       "      <th>IRHH65_2</th>\n",
       "      <th>PRXRETRY</th>\n",
       "      <th>PRXYDATA</th>\n",
       "      <th>MEDICARE</th>\n",
       "      <th>CAIDCHIP</th>\n",
       "      <th>...</th>\n",
       "      <th>POVERTY3</th>\n",
       "      <th>TOOLONG</th>\n",
       "      <th>TROUBUND</th>\n",
       "      <th>PDEN10</th>\n",
       "      <th>COUTYP2</th>\n",
       "      <th>AIIND102</th>\n",
       "      <th>ANALWT_C</th>\n",
       "      <th>VESTR</th>\n",
       "      <th>VEREP</th>\n",
       "      <th>Criminal</th>\n",
       "    </tr>\n",
       "  </thead>\n",
       "  <tbody>\n",
       "    <tr>\n",
       "      <th>0</th>\n",
       "      <td>4</td>\n",
       "      <td>2</td>\n",
       "      <td>4</td>\n",
       "      <td>3</td>\n",
       "      <td>1</td>\n",
       "      <td>1</td>\n",
       "      <td>1</td>\n",
       "      <td>1</td>\n",
       "      <td>2</td>\n",
       "      <td>1</td>\n",
       "      <td>...</td>\n",
       "      <td>2</td>\n",
       "      <td>1</td>\n",
       "      <td>2</td>\n",
       "      <td>1</td>\n",
       "      <td>1</td>\n",
       "      <td>2</td>\n",
       "      <td>0.0</td>\n",
       "      <td>2</td>\n",
       "      <td>1</td>\n",
       "      <td>0</td>\n",
       "    </tr>\n",
       "    <tr>\n",
       "      <th>1</th>\n",
       "      <td>4</td>\n",
       "      <td>1</td>\n",
       "      <td>3</td>\n",
       "      <td>2</td>\n",
       "      <td>1</td>\n",
       "      <td>1</td>\n",
       "      <td>1</td>\n",
       "      <td>1</td>\n",
       "      <td>2</td>\n",
       "      <td>2</td>\n",
       "      <td>...</td>\n",
       "      <td>1</td>\n",
       "      <td>2</td>\n",
       "      <td>2</td>\n",
       "      <td>2</td>\n",
       "      <td>3</td>\n",
       "      <td>2</td>\n",
       "      <td>0.0</td>\n",
       "      <td>1</td>\n",
       "      <td>2</td>\n",
       "      <td>1</td>\n",
       "    </tr>\n",
       "    <tr>\n",
       "      <th>2</th>\n",
       "      <td>4</td>\n",
       "      <td>1</td>\n",
       "      <td>2</td>\n",
       "      <td>2</td>\n",
       "      <td>1</td>\n",
       "      <td>1</td>\n",
       "      <td>1</td>\n",
       "      <td>1</td>\n",
       "      <td>2</td>\n",
       "      <td>1</td>\n",
       "      <td>...</td>\n",
       "      <td>1</td>\n",
       "      <td>2</td>\n",
       "      <td>2</td>\n",
       "      <td>2</td>\n",
       "      <td>3</td>\n",
       "      <td>2</td>\n",
       "      <td>0.0</td>\n",
       "      <td>1</td>\n",
       "      <td>1</td>\n",
       "      <td>0</td>\n",
       "    </tr>\n",
       "    <tr>\n",
       "      <th>3</th>\n",
       "      <td>4</td>\n",
       "      <td>0</td>\n",
       "      <td>2</td>\n",
       "      <td>1</td>\n",
       "      <td>1</td>\n",
       "      <td>1</td>\n",
       "      <td>1</td>\n",
       "      <td>1</td>\n",
       "      <td>2</td>\n",
       "      <td>2</td>\n",
       "      <td>...</td>\n",
       "      <td>3</td>\n",
       "      <td>2</td>\n",
       "      <td>2</td>\n",
       "      <td>1</td>\n",
       "      <td>1</td>\n",
       "      <td>2</td>\n",
       "      <td>0.0</td>\n",
       "      <td>2</td>\n",
       "      <td>1</td>\n",
       "      <td>0</td>\n",
       "    </tr>\n",
       "    <tr>\n",
       "      <th>4</th>\n",
       "      <td>1</td>\n",
       "      <td>0</td>\n",
       "      <td>6</td>\n",
       "      <td>4</td>\n",
       "      <td>1</td>\n",
       "      <td>1</td>\n",
       "      <td>1</td>\n",
       "      <td>0</td>\n",
       "      <td>2</td>\n",
       "      <td>1</td>\n",
       "      <td>...</td>\n",
       "      <td>1</td>\n",
       "      <td>2</td>\n",
       "      <td>2</td>\n",
       "      <td>2</td>\n",
       "      <td>2</td>\n",
       "      <td>2</td>\n",
       "      <td>0.0</td>\n",
       "      <td>0</td>\n",
       "      <td>2</td>\n",
       "      <td>0</td>\n",
       "    </tr>\n",
       "  </tbody>\n",
       "</table>\n",
       "<p>5 rows × 65 columns</p>\n",
       "</div>"
      ],
      "text/plain": [
       "   IFATHER  NRCH17_2  IRHHSIZ2  IRKI17_2  IIKI17_2  IRHH65_2  PRXRETRY  \\\n",
       "0        4         2         4         3         1         1         1   \n",
       "1        4         1         3         2         1         1         1   \n",
       "2        4         1         2         2         1         1         1   \n",
       "3        4         0         2         1         1         1         1   \n",
       "4        1         0         6         4         1         1         1   \n",
       "\n",
       "   PRXYDATA  MEDICARE  CAIDCHIP    ...     POVERTY3  TOOLONG  TROUBUND  \\\n",
       "0         1         2         1    ...            2        1         2   \n",
       "1         1         2         2    ...            1        2         2   \n",
       "2         1         2         1    ...            1        2         2   \n",
       "3         1         2         2    ...            3        2         2   \n",
       "4         0         2         1    ...            1        2         2   \n",
       "\n",
       "   PDEN10  COUTYP2  AIIND102  ANALWT_C  VESTR  VEREP  Criminal  \n",
       "0       1        1         2       0.0      2      1         0  \n",
       "1       2        3         2       0.0      1      2         1  \n",
       "2       2        3         2       0.0      1      1         0  \n",
       "3       1        1         2       0.0      2      1         0  \n",
       "4       2        2         2       0.0      0      2         0  \n",
       "\n",
       "[5 rows x 65 columns]"
      ]
     },
     "execution_count": 68,
     "metadata": {},
     "output_type": "execute_result"
    }
   ],
   "source": [
    "train.head()"
   ]
  },
  {
   "cell_type": "code",
   "execution_count": 69,
   "metadata": {},
   "outputs": [
    {
     "data": {
      "text/html": [
       "<div>\n",
       "<style>\n",
       "    .dataframe thead tr:only-child th {\n",
       "        text-align: right;\n",
       "    }\n",
       "\n",
       "    .dataframe thead th {\n",
       "        text-align: left;\n",
       "    }\n",
       "\n",
       "    .dataframe tbody tr th {\n",
       "        vertical-align: top;\n",
       "    }\n",
       "</style>\n",
       "<table border=\"1\" class=\"dataframe\">\n",
       "  <thead>\n",
       "    <tr style=\"text-align: right;\">\n",
       "      <th></th>\n",
       "      <th>PERID</th>\n",
       "      <th>IFATHER</th>\n",
       "      <th>NRCH17_2</th>\n",
       "      <th>IRHHSIZ2</th>\n",
       "      <th>IRKI17_2</th>\n",
       "      <th>IIKI17_2</th>\n",
       "      <th>IRHH65_2</th>\n",
       "      <th>PRXRETRY</th>\n",
       "      <th>PRXYDATA</th>\n",
       "      <th>MEDICARE</th>\n",
       "      <th>...</th>\n",
       "      <th>GOVTPROG</th>\n",
       "      <th>POVERTY3</th>\n",
       "      <th>TOOLONG</th>\n",
       "      <th>TROUBUND</th>\n",
       "      <th>PDEN10</th>\n",
       "      <th>COUTYP2</th>\n",
       "      <th>AIIND102</th>\n",
       "      <th>ANALWT_C</th>\n",
       "      <th>VESTR</th>\n",
       "      <th>VEREP</th>\n",
       "    </tr>\n",
       "  </thead>\n",
       "  <tbody>\n",
       "    <tr>\n",
       "      <th>0</th>\n",
       "      <td>66583679</td>\n",
       "      <td>4</td>\n",
       "      <td>0</td>\n",
       "      <td>4</td>\n",
       "      <td>2</td>\n",
       "      <td>1</td>\n",
       "      <td>1</td>\n",
       "      <td>1</td>\n",
       "      <td>1</td>\n",
       "      <td>2</td>\n",
       "      <td>...</td>\n",
       "      <td>2</td>\n",
       "      <td>2</td>\n",
       "      <td>2</td>\n",
       "      <td>2</td>\n",
       "      <td>1</td>\n",
       "      <td>1</td>\n",
       "      <td>2</td>\n",
       "      <td>0.0</td>\n",
       "      <td>1</td>\n",
       "      <td>1</td>\n",
       "    </tr>\n",
       "    <tr>\n",
       "      <th>1</th>\n",
       "      <td>35494679</td>\n",
       "      <td>4</td>\n",
       "      <td>0</td>\n",
       "      <td>4</td>\n",
       "      <td>1</td>\n",
       "      <td>1</td>\n",
       "      <td>1</td>\n",
       "      <td>1</td>\n",
       "      <td>1</td>\n",
       "      <td>2</td>\n",
       "      <td>...</td>\n",
       "      <td>2</td>\n",
       "      <td>3</td>\n",
       "      <td>2</td>\n",
       "      <td>2</td>\n",
       "      <td>1</td>\n",
       "      <td>1</td>\n",
       "      <td>2</td>\n",
       "      <td>0.0</td>\n",
       "      <td>3</td>\n",
       "      <td>2</td>\n",
       "    </tr>\n",
       "    <tr>\n",
       "      <th>2</th>\n",
       "      <td>79424679</td>\n",
       "      <td>2</td>\n",
       "      <td>0</td>\n",
       "      <td>3</td>\n",
       "      <td>2</td>\n",
       "      <td>1</td>\n",
       "      <td>1</td>\n",
       "      <td>1</td>\n",
       "      <td>0</td>\n",
       "      <td>2</td>\n",
       "      <td>...</td>\n",
       "      <td>1</td>\n",
       "      <td>1</td>\n",
       "      <td>2</td>\n",
       "      <td>2</td>\n",
       "      <td>2</td>\n",
       "      <td>2</td>\n",
       "      <td>2</td>\n",
       "      <td>0.0</td>\n",
       "      <td>2</td>\n",
       "      <td>2</td>\n",
       "    </tr>\n",
       "    <tr>\n",
       "      <th>3</th>\n",
       "      <td>11744679</td>\n",
       "      <td>4</td>\n",
       "      <td>0</td>\n",
       "      <td>6</td>\n",
       "      <td>2</td>\n",
       "      <td>1</td>\n",
       "      <td>1</td>\n",
       "      <td>1</td>\n",
       "      <td>1</td>\n",
       "      <td>2</td>\n",
       "      <td>...</td>\n",
       "      <td>2</td>\n",
       "      <td>3</td>\n",
       "      <td>2</td>\n",
       "      <td>2</td>\n",
       "      <td>1</td>\n",
       "      <td>1</td>\n",
       "      <td>2</td>\n",
       "      <td>0.0</td>\n",
       "      <td>1</td>\n",
       "      <td>1</td>\n",
       "    </tr>\n",
       "    <tr>\n",
       "      <th>4</th>\n",
       "      <td>31554679</td>\n",
       "      <td>1</td>\n",
       "      <td>0</td>\n",
       "      <td>4</td>\n",
       "      <td>3</td>\n",
       "      <td>1</td>\n",
       "      <td>1</td>\n",
       "      <td>1</td>\n",
       "      <td>0</td>\n",
       "      <td>2</td>\n",
       "      <td>...</td>\n",
       "      <td>2</td>\n",
       "      <td>3</td>\n",
       "      <td>2</td>\n",
       "      <td>1</td>\n",
       "      <td>1</td>\n",
       "      <td>1</td>\n",
       "      <td>2</td>\n",
       "      <td>0.0</td>\n",
       "      <td>1</td>\n",
       "      <td>1</td>\n",
       "    </tr>\n",
       "  </tbody>\n",
       "</table>\n",
       "<p>5 rows × 65 columns</p>\n",
       "</div>"
      ],
      "text/plain": [
       "      PERID  IFATHER  NRCH17_2  IRHHSIZ2  IRKI17_2  IIKI17_2  IRHH65_2  \\\n",
       "0  66583679        4         0         4         2         1         1   \n",
       "1  35494679        4         0         4         1         1         1   \n",
       "2  79424679        2         0         3         2         1         1   \n",
       "3  11744679        4         0         6         2         1         1   \n",
       "4  31554679        1         0         4         3         1         1   \n",
       "\n",
       "   PRXRETRY  PRXYDATA  MEDICARE  ...    GOVTPROG  POVERTY3  TOOLONG  TROUBUND  \\\n",
       "0         1         1         2  ...           2         2        2         2   \n",
       "1         1         1         2  ...           2         3        2         2   \n",
       "2         1         0         2  ...           1         1        2         2   \n",
       "3         1         1         2  ...           2         3        2         2   \n",
       "4         1         0         2  ...           2         3        2         1   \n",
       "\n",
       "   PDEN10  COUTYP2  AIIND102  ANALWT_C  VESTR  VEREP  \n",
       "0       1        1         2       0.0      1      1  \n",
       "1       1        1         2       0.0      3      2  \n",
       "2       2        2         2       0.0      2      2  \n",
       "3       1        1         2       0.0      1      1  \n",
       "4       1        1         2       0.0      1      1  \n",
       "\n",
       "[5 rows x 65 columns]"
      ]
     },
     "execution_count": 69,
     "metadata": {},
     "output_type": "execute_result"
    }
   ],
   "source": [
    "test.head()"
   ]
  },
  {
   "cell_type": "markdown",
   "metadata": {
    "collapsed": true
   },
   "source": [
    "# Building a Model"
   ]
  },
  {
   "cell_type": "markdown",
   "metadata": {
    "collapsed": true
   },
   "source": [
    "## Train-Test Split"
   ]
  },
  {
   "cell_type": "code",
   "execution_count": 70,
   "metadata": {
    "collapsed": true
   },
   "outputs": [],
   "source": [
    "from sklearn.model_selection import train_test_split\n",
    "X = train.drop('Criminal',axis=1)\n",
    "y = train['Criminal']"
   ]
  },
  {
   "cell_type": "code",
   "execution_count": 72,
   "metadata": {
    "collapsed": true
   },
   "outputs": [],
   "source": [
    "X_train, X_test, y_train, y_test = train_test_split(X, y, test_size=0.25)"
   ]
  },
  {
   "cell_type": "code",
   "execution_count": 89,
   "metadata": {
    "collapsed": true
   },
   "outputs": [],
   "source": [
    "# Feature Scaling\n",
    "from sklearn.preprocessing import StandardScaler\n",
    "sc = StandardScaler()\n",
    "X_train = sc.fit_transform(X_train)\n",
    "X_test = sc.transform(X_test)"
   ]
  },
  {
   "cell_type": "markdown",
   "metadata": {},
   "source": [
    "## Logistic Regression Model"
   ]
  },
  {
   "cell_type": "code",
   "execution_count": 90,
   "metadata": {},
   "outputs": [
    {
     "data": {
      "text/plain": [
       "0.93922071861875878"
      ]
     },
     "execution_count": 90,
     "metadata": {},
     "output_type": "execute_result"
    }
   ],
   "source": [
    "# Logistic Regression\n",
    "from sklearn.linear_model import LogisticRegression\n",
    "logmodel = LogisticRegression()\n",
    "logmodel.fit(X_train,y_train)\n",
    "predictions = logmodel.predict(X_test)\n",
    "logmodel.score(X_train,y_train)"
   ]
  },
  {
   "cell_type": "markdown",
   "metadata": {},
   "source": [
    "## Random Forest\n",
    "### Training and Predicting\n",
    "We'll start training using Random Forest."
   ]
  },
  {
   "cell_type": "code",
   "execution_count": 91,
   "metadata": {
    "collapsed": true
   },
   "outputs": [],
   "source": [
    "from sklearn.ensemble import RandomForestClassifier"
   ]
  },
  {
   "cell_type": "code",
   "execution_count": 92,
   "metadata": {},
   "outputs": [
    {
     "data": {
      "text/plain": [
       "RandomForestClassifier(bootstrap=True, class_weight=None, criterion='gini',\n",
       "            max_depth=None, max_features='auto', max_leaf_nodes=None,\n",
       "            min_impurity_decrease=0.0, min_impurity_split=None,\n",
       "            min_samples_leaf=1, min_samples_split=2,\n",
       "            min_weight_fraction_leaf=0.0, n_estimators=150, n_jobs=1,\n",
       "            oob_score=False, random_state=None, verbose=0,\n",
       "            warm_start=False)"
      ]
     },
     "execution_count": 92,
     "metadata": {},
     "output_type": "execute_result"
    }
   ],
   "source": [
    "random_forest = RandomForestClassifier(n_estimators=150)\n",
    "random_forest.fit(X_train, y_train)"
   ]
  },
  {
   "cell_type": "code",
   "execution_count": 93,
   "metadata": {
    "collapsed": true
   },
   "outputs": [],
   "source": [
    "RFC_prediction = random_forest.predict(X_test)"
   ]
  },
  {
   "cell_type": "code",
   "execution_count": 94,
   "metadata": {},
   "outputs": [
    {
     "data": {
      "text/plain": [
       "0.99305879608026126"
      ]
     },
     "execution_count": 94,
     "metadata": {},
     "output_type": "execute_result"
    }
   ],
   "source": [
    "random_forest.score(X_train, y_train)"
   ]
  },
  {
   "cell_type": "code",
   "execution_count": 95,
   "metadata": {},
   "outputs": [
    {
     "name": "stdout",
     "output_type": "stream",
     "text": [
      "             precision    recall  f1-score   support\n",
      "\n",
      "          0       0.97      0.98      0.97     10568\n",
      "          1       0.68      0.59      0.63       862\n",
      "\n",
      "avg / total       0.95      0.95      0.95     11430\n",
      "\n"
     ]
    }
   ],
   "source": [
    "from sklearn.metrics import classification_report,confusion_matrix\n",
    "print(classification_report(y_test,RFC_prediction))"
   ]
  },
  {
   "cell_type": "code",
   "execution_count": 96,
   "metadata": {},
   "outputs": [
    {
     "name": "stdout",
     "output_type": "stream",
     "text": [
      "[[10326   242]\n",
      " [  350   512]]\n"
     ]
    }
   ],
   "source": [
    "# Print confusion matrix\n",
    "\n",
    "cm = confusion_matrix(y_test, RFC_prediction)\n",
    "print(cm)"
   ]
  },
  {
   "cell_type": "markdown",
   "metadata": {},
   "source": [
    "## Result file into .csv"
   ]
  },
  {
   "cell_type": "code",
   "execution_count": 97,
   "metadata": {
    "collapsed": true
   },
   "outputs": [],
   "source": [
    "submission = pd.DataFrame({    \n",
    "    \"PERID\": test[\"PERID\"],\n",
    "    \"Criminal\": RFC_prediction,\n",
    "    })\n",
    "submission.to_csv('Submission.csv', index=False, columns=['PERID', 'Criminal'])"
   ]
  },
  {
   "cell_type": "code",
   "execution_count": 98,
   "metadata": {},
   "outputs": [
    {
     "data": {
      "text/html": [
       "<div>\n",
       "<style>\n",
       "    .dataframe thead tr:only-child th {\n",
       "        text-align: right;\n",
       "    }\n",
       "\n",
       "    .dataframe thead th {\n",
       "        text-align: left;\n",
       "    }\n",
       "\n",
       "    .dataframe tbody tr th {\n",
       "        vertical-align: top;\n",
       "    }\n",
       "</style>\n",
       "<table border=\"1\" class=\"dataframe\">\n",
       "  <thead>\n",
       "    <tr style=\"text-align: right;\">\n",
       "      <th></th>\n",
       "      <th>PERID</th>\n",
       "      <th>Criminal</th>\n",
       "    </tr>\n",
       "  </thead>\n",
       "  <tbody>\n",
       "    <tr>\n",
       "      <th>0</th>\n",
       "      <td>66583679</td>\n",
       "      <td>0</td>\n",
       "    </tr>\n",
       "    <tr>\n",
       "      <th>1</th>\n",
       "      <td>35494679</td>\n",
       "      <td>0</td>\n",
       "    </tr>\n",
       "    <tr>\n",
       "      <th>2</th>\n",
       "      <td>79424679</td>\n",
       "      <td>0</td>\n",
       "    </tr>\n",
       "    <tr>\n",
       "      <th>3</th>\n",
       "      <td>11744679</td>\n",
       "      <td>0</td>\n",
       "    </tr>\n",
       "    <tr>\n",
       "      <th>4</th>\n",
       "      <td>31554679</td>\n",
       "      <td>0</td>\n",
       "    </tr>\n",
       "  </tbody>\n",
       "</table>\n",
       "</div>"
      ],
      "text/plain": [
       "      PERID  Criminal\n",
       "0  66583679         0\n",
       "1  35494679         0\n",
       "2  79424679         0\n",
       "3  11744679         0\n",
       "4  31554679         0"
      ]
     },
     "execution_count": 98,
     "metadata": {},
     "output_type": "execute_result"
    }
   ],
   "source": [
    "result = pd.read_csv('submission.csv')\n",
    "result.head()"
   ]
  },
  {
   "cell_type": "markdown",
   "metadata": {
    "collapsed": true
   },
   "source": [
    "# Using Artificial Neural Networks\n"
   ]
  },
  {
   "cell_type": "markdown",
   "metadata": {},
   "source": [
    "### Importing necessary libraries"
   ]
  },
  {
   "cell_type": "code",
   "execution_count": 107,
   "metadata": {},
   "outputs": [],
   "source": [
    "from keras.models import Sequential\n",
    "from keras.layers import Dense, Dropout\n",
    "from keras.callbacks import TensorBoard, ModelCheckpoint, EarlyStopping, CSVLogger\n",
    "from keras.optimizers import SGD\n",
    "import os, time"
   ]
  },
  {
   "cell_type": "markdown",
   "metadata": {},
   "source": [
    "### Designing the ANN"
   ]
  },
  {
   "cell_type": "code",
   "execution_count": 110,
   "metadata": {
    "collapsed": true
   },
   "outputs": [],
   "source": [
    "# Initialising the ANN\n",
    "model = Sequential()\n",
    "# Adding the input layer and the first hidden layer\n",
    "model.add(Dense(units = 64, kernel_initializer = 'glorot_uniform', use_bias=True, activation = 'relu', input_dim = 64))\n",
    "# Adding the second hidden layer\n",
    "model.add(Dense(units = 256, kernel_initializer = 'glorot_uniform', activation = 'relu'))\n",
    "model.add(Dropout(0.4))\n",
    "# Adding the third hidden layer\n",
    "model.add(Dense(units = 128, kernel_initializer = 'glorot_uniform', activation = 'relu'))\n",
    "model.add(Dropout(0.3))\n",
    "# Adding the fourth hidden layer\n",
    "model.add(Dense(units = 64, kernel_initializer = 'uniform', activation = 'relu'))\n",
    "model.add(Dropout(0.25))\n",
    "# Adding the output layer\n",
    "model.add(Dense(units = 1, kernel_initializer = 'uniform', activation = 'sigmoid'))\n"
   ]
  },
  {
   "cell_type": "code",
   "execution_count": 101,
   "metadata": {
    "collapsed": true
   },
   "outputs": [],
   "source": [
    "### Compiling the ANN"
   ]
  },
  {
   "cell_type": "code",
   "execution_count": 113,
   "metadata": {
    "collapsed": true
   },
   "outputs": [],
   "source": [
    "# Compiling the ANN\n",
    "#sgd = SGD(lr=0.1, momentum=0.8, decay=0.0, nesterov=False)\n",
    "model.compile(optimizer = 'adam', loss = 'binary_crossentropy', metrics = ['accuracy'])"
   ]
  },
  {
   "cell_type": "code",
   "execution_count": 103,
   "metadata": {
    "collapsed": true
   },
   "outputs": [],
   "source": [
    "### Helper functions"
   ]
  },
  {
   "cell_type": "code",
   "execution_count": 111,
   "metadata": {},
   "outputs": [],
   "source": [
    "# Helper: Save the model.\n",
    "checkpointer = ModelCheckpoint(filepath=\"model/checkpoints/criminal-ann-{epoch:03d}-loss{val_loss:.3f}-acc{val_acc:.3f}.hdf5\", verbose=1, save_best_only=True)\n",
    "# Helper: TensorBoard\n",
    "tb = TensorBoard(log_dir=os.path.join('model', 'logs', 'criminal-ann'))\n",
    "\n",
    "# Helper: Stop when we stop learning.\n",
    "early_stopper = EarlyStopping(monitor='val_loss', patience= 10, mode = 'auto')\n",
    "\n",
    "# Helper: Save results.\n",
    "timestamp = time.time()\n",
    "csv_logger = CSVLogger(os.path.join('model', 'logs', 'criminal-ann' + '-' + 'training-' + \\\n",
    "                                    str(timestamp) + '.log'))\n"
   ]
  },
  {
   "cell_type": "code",
   "execution_count": null,
   "metadata": {
    "collapsed": true
   },
   "outputs": [],
   "source": [
    "### Fitting the model to data"
   ]
  },
  {
   "cell_type": "code",
   "execution_count": 114,
   "metadata": {},
   "outputs": [
    {
     "name": "stdout",
     "output_type": "stream",
     "text": [
      "Train on 34288 samples, validate on 11430 samples\n",
      "Epoch 1/100\n",
      "34288/34288 [==============================] - 4s 120us/step - loss: 0.2318 - acc: 0.9257 - val_loss: 0.1421 - val_acc: 0.9246\n",
      "\n",
      "Epoch 00001: val_loss improved from inf to 0.14210, saving model to model/checkpoints/criminal-ann-001-loss0.142-acc0.925.hdf5\n",
      "Epoch 2/100\n",
      "34288/34288 [==============================] - 2s 46us/step - loss: 0.1275 - acc: 0.9330 - val_loss: 0.1254 - val_acc: 0.9340\n",
      "\n",
      "Epoch 00002: val_loss improved from 0.14210 to 0.12537, saving model to model/checkpoints/criminal-ann-002-loss0.125-acc0.934.hdf5\n",
      "Epoch 3/100\n",
      "34288/34288 [==============================] - 2s 47us/step - loss: 0.1167 - acc: 0.9448 - val_loss: 0.1172 - val_acc: 0.9458\n",
      "\n",
      "Epoch 00003: val_loss improved from 0.12537 to 0.11717, saving model to model/checkpoints/criminal-ann-003-loss0.117-acc0.946.hdf5\n",
      "Epoch 4/100\n",
      "34288/34288 [==============================] - 2s 44us/step - loss: 0.1092 - acc: 0.9505 - val_loss: 0.1138 - val_acc: 0.9477\n",
      "\n",
      "Epoch 00004: val_loss improved from 0.11717 to 0.11383, saving model to model/checkpoints/criminal-ann-004-loss0.114-acc0.948.hdf5\n",
      "Epoch 5/100\n",
      "34288/34288 [==============================] - 2s 46us/step - loss: 0.1069 - acc: 0.9521 - val_loss: 0.1119 - val_acc: 0.9496\n",
      "\n",
      "Epoch 00005: val_loss improved from 0.11383 to 0.11189, saving model to model/checkpoints/criminal-ann-005-loss0.112-acc0.950.hdf5\n",
      "Epoch 6/100\n",
      "34288/34288 [==============================] - 1s 42us/step - loss: 0.1034 - acc: 0.9538 - val_loss: 0.1121 - val_acc: 0.9501\n",
      "\n",
      "Epoch 00006: val_loss did not improve\n",
      "Epoch 7/100\n",
      "34288/34288 [==============================] - 1s 43us/step - loss: 0.1027 - acc: 0.9539 - val_loss: 0.1113 - val_acc: 0.9499\n",
      "\n",
      "Epoch 00007: val_loss improved from 0.11189 to 0.11128, saving model to model/checkpoints/criminal-ann-007-loss0.111-acc0.950.hdf5\n",
      "Epoch 8/100\n",
      "34288/34288 [==============================] - 2s 46us/step - loss: 0.1010 - acc: 0.9546 - val_loss: 0.1122 - val_acc: 0.9496\n",
      "\n",
      "Epoch 00008: val_loss did not improve\n",
      "Epoch 9/100\n",
      "34288/34288 [==============================] - 1s 41us/step - loss: 0.0988 - acc: 0.9557 - val_loss: 0.1162 - val_acc: 0.9500\n",
      "\n",
      "Epoch 00009: val_loss did not improve\n",
      "Epoch 10/100\n",
      "34288/34288 [==============================] - 1s 43us/step - loss: 0.0990 - acc: 0.9559 - val_loss: 0.1136 - val_acc: 0.9486\n",
      "\n",
      "Epoch 00010: val_loss did not improve\n",
      "Epoch 11/100\n",
      "34288/34288 [==============================] - 2s 45us/step - loss: 0.0989 - acc: 0.9552 - val_loss: 0.1149 - val_acc: 0.9499\n",
      "\n",
      "Epoch 00011: val_loss did not improve\n",
      "Epoch 12/100\n",
      "34288/34288 [==============================] - 2s 44us/step - loss: 0.0962 - acc: 0.9567 - val_loss: 0.1149 - val_acc: 0.9488\n",
      "\n",
      "Epoch 00012: val_loss did not improve\n",
      "Epoch 13/100\n",
      "34288/34288 [==============================] - 1s 40us/step - loss: 0.0968 - acc: 0.9565 - val_loss: 0.1222 - val_acc: 0.9497\n",
      "\n",
      "Epoch 00013: val_loss did not improve\n",
      "Epoch 14/100\n",
      "34288/34288 [==============================] - 2s 47us/step - loss: 0.0954 - acc: 0.9567 - val_loss: 0.1148 - val_acc: 0.9489\n",
      "\n",
      "Epoch 00014: val_loss did not improve\n",
      "Epoch 15/100\n",
      "34288/34288 [==============================] - 1s 43us/step - loss: 0.0947 - acc: 0.9576 - val_loss: 0.1189 - val_acc: 0.9493\n",
      "\n",
      "Epoch 00015: val_loss did not improve\n",
      "Epoch 16/100\n",
      "34288/34288 [==============================] - 2s 47us/step - loss: 0.0928 - acc: 0.9578 - val_loss: 0.1208 - val_acc: 0.9483\n",
      "\n",
      "Epoch 00016: val_loss did not improve\n",
      "Epoch 17/100\n",
      "34288/34288 [==============================] - 2s 44us/step - loss: 0.0924 - acc: 0.9588 - val_loss: 0.1226 - val_acc: 0.9477\n",
      "\n",
      "Epoch 00017: val_loss did not improve\n"
     ]
    }
   ],
   "source": [
    "# Fitting the ANN to the Training set\n",
    "hist = model.fit(X_train, y_train, batch_size = 256, epochs = 100, \n",
    "          validation_data = (X_test, y_test), \n",
    "          callbacks=[tb, csv_logger, early_stopper, checkpointer])\n"
   ]
  },
  {
   "cell_type": "code",
   "execution_count": null,
   "metadata": {
    "collapsed": true
   },
   "outputs": [],
   "source": [
    "### Printing the scores of prediction on X_test"
   ]
  },
  {
   "cell_type": "code",
   "execution_count": 115,
   "metadata": {},
   "outputs": [
    {
     "name": "stdout",
     "output_type": "stream",
     "text": [
      "====================[TEST SCORE]====================\n",
      "acc: 94.77%\n"
     ]
    }
   ],
   "source": [
    "scores = model.evaluate(np.array(X_test), np.array(y_test), verbose=0)\n",
    "print(\"====================[TEST SCORE]====================\")\n",
    "print(\"%s: %.2f%%\" % (model.metrics_names[1], scores[1]*100))"
   ]
  },
  {
   "cell_type": "code",
   "execution_count": 116,
   "metadata": {},
   "outputs": [
    {
     "data": {
      "image/png": "[encoded data removed]",
      "text/plain": [
       "<matplotlib.figure.Figure at 0x1f0c6efce10>"
      ]
     },
     "metadata": {},
     "output_type": "display_data"
    }
   ],
   "source": [
    "plt.plot(hist.history[\"acc\"], label='acc')\n",
    "plt.plot(hist.history[\"val_acc\"], label='val_acc')\n",
    "plt.legend()\n",
    "plt.savefig('performance')\n",
    "plt.show()"
   ]
  },
  {
   "cell_type": "code",
   "execution_count": null,
   "metadata": {
    "collapsed": true
   },
   "outputs": [],
   "source": []
  }
 ],
 "metadata": {
  "kernelspec": {
   "display_name": "Python 3",
   "language": "python",
   "name": "python3"
  },
  "language_info": {
   "codemirror_mode": {
    "name": "ipython",
    "version": 3
   },
   "file_extension": ".py",
   "mimetype": "text/x-python",
   "name": "python",
   "nbconvert_exporter": "python",
   "pygments_lexer": "ipython3",
   "version": "3.6.1"
  }
 },
 "nbformat": 4,
 "nbformat_minor": 2
}
